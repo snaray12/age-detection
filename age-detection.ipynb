{
 "cells": [
  {
   "cell_type": "code",
   "execution_count": 1,
   "metadata": {},
   "outputs": [
    {
     "name": "stdout",
     "output_type": "stream",
     "text": [
      "Populating the interactive namespace from numpy and matplotlib\n"
     ]
    }
   ],
   "source": [
    "% pylab inline\n",
    "import os\n",
    "import random\n",
    "\n",
    "import pandas as pd\n",
    "from scipy.misc import imread"
   ]
  },
  {
   "cell_type": "code",
   "execution_count": 2,
   "metadata": {
    "collapsed": true
   },
   "outputs": [],
   "source": [
    "root_dir = os.path.abspath('.')\n",
    "data_dir_train = 'data/train_DETg9GD'\n",
    "data_dir_test = 'data/test_Bh8pGW3'\n",
    "\n",
    "train = pd.read_csv(os.path.join(data_dir_train, 'train.csv'))\n",
    "test = pd.read_csv(os.path.join(data_dir_test, 'test.csv'))"
   ]
  },
  {
   "cell_type": "code",
   "execution_count": 3,
   "metadata": {},
   "outputs": [
    {
     "name": "stdout",
     "output_type": "stream",
     "text": [
      "('Age: ', 'OLD')\n"
     ]
    }
   ],
   "source": [
    "i = random.choice(train.index)\n",
    "\n",
    "img_name = train.ID[i]\n",
    "img = imread(os.path.join(data_dir_train, 'Train', img_name))\n",
    "\n",
    "print('Age: ', train.Class[i])"
   ]
  },
  {
   "cell_type": "code",
   "execution_count": 4,
   "metadata": {},
   "outputs": [
    {
     "data": {
      "text/plain": [
       "<matplotlib.image.AxesImage at 0x113fd9210>"
      ]
     },
     "execution_count": 4,
     "metadata": {},
     "output_type": "execute_result"
    },
    {
     "data": {
      "image/png": "[encoded data removed]",
      "text/plain": [
       "<matplotlib.figure.Figure at 0x11038c850>"
      ]
     },
     "metadata": {},
     "output_type": "display_data"
    }
   ],
   "source": [
    "imshow(img)"
   ]
  },
  {
   "cell_type": "code",
   "execution_count": 5,
   "metadata": {
    "collapsed": true
   },
   "outputs": [],
   "source": [
    "from scipy.misc import imresize"
   ]
  },
  {
   "cell_type": "code",
   "execution_count": 6,
   "metadata": {
    "collapsed": true
   },
   "outputs": [],
   "source": [
    "temp = []\n",
    "for img_name in train.ID:\n",
    "    img_path = os.path.join(data_dir_train, 'Train', img_name)\n",
    "    img = imread(img_path)\n",
    "    img = imresize(img, (32, 32))\n",
    "    img = img.astype('float32') # this will help us in later stage\n",
    "    temp.append(img)"
   ]
  },
  {
   "cell_type": "code",
   "execution_count": 7,
   "metadata": {
    "collapsed": true
   },
   "outputs": [],
   "source": [
    "train_x = np.stack(temp)"
   ]
  },
  {
   "cell_type": "code",
   "execution_count": 8,
   "metadata": {
    "collapsed": true
   },
   "outputs": [],
   "source": [
    "temp = []\n",
    "for img_name in test.ID:\n",
    "    img_path = os.path.join(data_dir_test, 'Test', img_name)\n",
    "    img = imread(img_path)\n",
    "    img = imresize(img, (32, 32))\n",
    "    temp.append(img.astype('float32'))"
   ]
  },
  {
   "cell_type": "code",
   "execution_count": 9,
   "metadata": {
    "collapsed": true
   },
   "outputs": [],
   "source": [
    "test_x = np.stack(temp)"
   ]
  },
  {
   "cell_type": "code",
   "execution_count": 10,
   "metadata": {
    "collapsed": true
   },
   "outputs": [],
   "source": [
    "train_x = train_x / 255\n",
    "test_x = test_x / 255"
   ]
  },
  {
   "cell_type": "code",
   "execution_count": 11,
   "metadata": {},
   "outputs": [
    {
     "data": {
      "text/plain": [
       "MIDDLE    0.542751\n",
       "YOUNG     0.336883\n",
       "OLD       0.120366\n",
       "Name: Class, dtype: float64"
      ]
     },
     "execution_count": 11,
     "metadata": {},
     "output_type": "execute_result"
    }
   ],
   "source": [
    "train.Class.value_counts(normalize=True)"
   ]
  },
  {
   "cell_type": "code",
   "execution_count": 12,
   "metadata": {
    "collapsed": true
   },
   "outputs": [],
   "source": [
    "test['Class'] = 'MIDDLE'\n",
    "test.to_csv('sub01.csv', index=False)"
   ]
  },
  {
   "cell_type": "code",
   "execution_count": 14,
   "metadata": {},
   "outputs": [],
   "source": [
    "import keras\n",
    "from sklearn.preprocessing import LabelEncoder"
   ]
  },
  {
   "cell_type": "code",
   "execution_count": 15,
   "metadata": {},
   "outputs": [],
   "source": [
    "lb = LabelEncoder()\n",
    "train_y = lb.fit_transform(train.Class)\n",
    "train_y = keras.utils.np_utils.to_categorical(train_y)"
   ]
  },
  {
   "cell_type": "code",
   "execution_count": 107,
   "metadata": {
    "collapsed": true
   },
   "outputs": [],
   "source": [
    "input_num_units = (32, 32, 3)\n",
    "hidden_num_units = 500\n",
    "output_num_units = 3\n",
    "\n",
    "epochs = 20\n",
    "batch_size = 128"
   ]
  },
  {
   "cell_type": "code",
   "execution_count": 108,
   "metadata": {
    "collapsed": true
   },
   "outputs": [],
   "source": [
    "from keras.models import Sequential\n",
    "from keras.layers import Dense, Flatten, InputLayer"
   ]
  },
  {
   "cell_type": "code",
   "execution_count": 109,
   "metadata": {
    "collapsed": true
   },
   "outputs": [],
   "source": [
    "model = Sequential([\n",
    "  InputLayer(input_shape=input_num_units),\n",
    "  Flatten(),\n",
    "  Dense(units=hidden_num_units, activation='relu'),\n",
    "  Dense(units=output_num_units, activation='softmax'),\n",
    "])"
   ]
  },
  {
   "cell_type": "code",
   "execution_count": 110,
   "metadata": {},
   "outputs": [
    {
     "name": "stdout",
     "output_type": "stream",
     "text": [
      "_________________________________________________________________\n",
      "Layer (type)                 Output Shape              Param #   \n",
      "=================================================================\n",
      "input_12 (InputLayer)        (None, 32, 32, 3)         0         \n",
      "_________________________________________________________________\n",
      "flatten_12 (Flatten)         (None, 3072)              0         \n",
      "_________________________________________________________________\n",
      "dense_25 (Dense)             (None, 500)               1536500   \n",
      "_________________________________________________________________\n",
      "dense_26 (Dense)             (None, 200)               100200    \n",
      "_________________________________________________________________\n",
      "dense_27 (Dense)             (None, 3)                 603       \n",
      "=================================================================\n",
      "Total params: 1,637,303\n",
      "Trainable params: 1,637,303\n",
      "Non-trainable params: 0\n",
      "_________________________________________________________________\n"
     ]
    }
   ],
   "source": [
    "model.summary()"
   ]
  },
  {
   "cell_type": "code",
   "execution_count": null,
   "metadata": {},
   "outputs": [
    {
     "name": "stdout",
     "output_type": "stream",
     "text": [
      "Epoch 1/20\n",
      "19906/19906 [==============================] - 6s 326us/step - loss: 0.9960 - acc: 0.5427\n",
      "Epoch 2/20\n",
      "19906/19906 [==============================] - 6s 289us/step - loss: 0.9789 - acc: 0.5428\n",
      "Epoch 3/20\n",
      "19906/19906 [==============================] - 6s 291us/step - loss: 0.9625 - acc: 0.5428\n",
      "Epoch 4/20\n",
      "19906/19906 [==============================] - 6s 296us/step - loss: 0.9627 - acc: 0.5428\n",
      "Epoch 5/20\n",
      "19906/19906 [==============================] - 6s 324us/step - loss: 0.9614 - acc: 0.5428 1s - loss\n",
      "Epoch 6/20\n",
      "19906/19906 [==============================] - 6s 296us/step - loss: 0.9560 - acc: 0.5428\n",
      "Epoch 7/20\n",
      "19906/19906 [==============================] - 6s 296us/step - loss: 0.9543 - acc: 0.5428\n",
      "Epoch 8/20\n",
      "19906/19906 [==============================] - 6s 299us/step - loss: 0.9536 - acc: 0.5428\n",
      "Epoch 9/20\n",
      "19906/19906 [==============================] - 6s 299us/step - loss: 0.9534 - acc: 0.5428\n",
      "Epoch 10/20\n",
      "19906/19906 [==============================] - 6s 300us/step - loss: 0.9532 - acc: 0.5428\n",
      "Epoch 11/20\n",
      "19906/19906 [==============================] - 6s 288us/step - loss: 0.9532 - acc: 0.5428\n",
      "Epoch 12/20\n",
      "19906/19906 [==============================] - 6s 301us/step - loss: 0.9531 - acc: 0.5428\n",
      "Epoch 13/20\n",
      "19906/19906 [==============================] - 7s 340us/step - loss: 0.9531 - acc: 0.5428\n",
      "Epoch 14/20\n",
      "19906/19906 [==============================] - 7s 342us/step - loss: 0.9531 - acc: 0.5428\n",
      "Epoch 15/20\n",
      "19906/19906 [==============================] - 6s 308us/step - loss: 0.9531 - acc: 0.5428\n",
      "Epoch 16/20\n",
      "19906/19906 [==============================] - 6s 305us/step - loss: 0.9531 - acc: 0.5428\n",
      "Epoch 17/20\n",
      "19584/19906 [============================>.] - ETA: 0s - loss: 0.9535 - acc: 0.5429"
     ]
    }
   ],
   "source": [
    "model.compile(optimizer='Adagrad', loss='categorical_crossentropy', metrics=['accuracy'])\n",
    "model.fit(train_x, train_y, batch_size=batch_size,epochs=epochs,verbose=1)"
   ]
  },
  {
   "cell_type": "code",
   "execution_count": 91,
   "metadata": {},
   "outputs": [
    {
     "name": "stdout",
     "output_type": "stream",
     "text": [
      "Train on 15924 samples, validate on 3982 samples\n",
      "Epoch 1/20\n",
      "15924/15924 [==============================] - 6s 355us/step - loss: 0.4224 - acc: 0.8289 - val_loss: 0.5533 - val_acc: 0.7690\n",
      "Epoch 2/20\n",
      "15924/15924 [==============================] - 6s 347us/step - loss: 0.4203 - acc: 0.8293 - val_loss: 0.5855 - val_acc: 0.7539\n",
      "Epoch 3/20\n",
      "15924/15924 [==============================] - 5s 345us/step - loss: 0.4195 - acc: 0.8303 - val_loss: 0.5978 - val_acc: 0.7511\n",
      "Epoch 4/20\n",
      "15924/15924 [==============================] - 5s 336us/step - loss: 0.4162 - acc: 0.8320 - val_loss: 0.5821 - val_acc: 0.7572\n",
      "Epoch 5/20\n",
      "15924/15924 [==============================] - 6s 377us/step - loss: 0.4143 - acc: 0.8339 - val_loss: 0.6143 - val_acc: 0.7461\n",
      "Epoch 6/20\n",
      "15924/15924 [==============================] - 6s 367us/step - loss: 0.4139 - acc: 0.8331 - val_loss: 0.6000 - val_acc: 0.7564\n",
      "Epoch 7/20\n",
      "15924/15924 [==============================] - 6s 379us/step - loss: 0.4122 - acc: 0.8341 - val_loss: 0.5630 - val_acc: 0.7675\n",
      "Epoch 8/20\n",
      "15924/15924 [==============================] - 6s 366us/step - loss: 0.4120 - acc: 0.8369 - val_loss: 0.5696 - val_acc: 0.7624\n",
      "Epoch 9/20\n",
      "15924/15924 [==============================] - 5s 345us/step - loss: 0.4092 - acc: 0.8341 - val_loss: 0.5692 - val_acc: 0.7710\n",
      "Epoch 10/20\n",
      "15924/15924 [==============================] - 6s 363us/step - loss: 0.4078 - acc: 0.8361 - val_loss: 0.5827 - val_acc: 0.7612\n",
      "Epoch 11/20\n",
      "15924/15924 [==============================] - 7s 408us/step - loss: 0.4042 - acc: 0.8380 - val_loss: 0.5973 - val_acc: 0.7614\n",
      "Epoch 12/20\n",
      "15924/15924 [==============================] - 6s 363us/step - loss: 0.4055 - acc: 0.8374 - val_loss: 0.5811 - val_acc: 0.7627\n",
      "Epoch 13/20\n",
      "15924/15924 [==============================] - 5s 344us/step - loss: 0.4043 - acc: 0.8380 - val_loss: 0.5972 - val_acc: 0.7557\n",
      "Epoch 14/20\n",
      "15924/15924 [==============================] - 5s 328us/step - loss: 0.4040 - acc: 0.8367 - val_loss: 0.5729 - val_acc: 0.7695\n",
      "Epoch 15/20\n",
      "15924/15924 [==============================] - 6s 365us/step - loss: 0.4028 - acc: 0.8367 - val_loss: 0.5996 - val_acc: 0.7521\n",
      "Epoch 16/20\n",
      "15924/15924 [==============================] - 6s 365us/step - loss: 0.3994 - acc: 0.8390 - val_loss: 0.5768 - val_acc: 0.7642\n",
      "Epoch 17/20\n",
      "15924/15924 [==============================] - 6s 367us/step - loss: 0.3976 - acc: 0.8392 - val_loss: 0.5904 - val_acc: 0.7584\n",
      "Epoch 18/20\n",
      "15924/15924 [==============================] - 7s 411us/step - loss: 0.3982 - acc: 0.8405 - val_loss: 0.5809 - val_acc: 0.7677\n",
      "Epoch 19/20\n",
      "15924/15924 [==============================] - 6s 351us/step - loss: 0.3969 - acc: 0.8429 - val_loss: 0.5818 - val_acc: 0.7637\n",
      "Epoch 20/20\n",
      "15924/15924 [==============================] - 6s 384us/step - loss: 0.3966 - acc: 0.8406 - val_loss: 0.6126 - val_acc: 0.7539\n"
     ]
    },
    {
     "data": {
      "text/plain": [
       "<keras.callbacks.History at 0x13c814e90>"
      ]
     },
     "execution_count": 91,
     "metadata": {},
     "output_type": "execute_result"
    }
   ],
   "source": [
    "model.fit(train_x, train_y, batch_size=batch_size,epochs=epochs,verbose=1, validation_split=0.2)"
   ]
  },
  {
   "cell_type": "code",
   "execution_count": 92,
   "metadata": {},
   "outputs": [],
   "source": [
    "pred = model.predict_classes(test_x)\n",
    "pred = lb.inverse_transform(pred)\n",
    "\n",
    "test['Class'] = pred\n",
    "test.to_csv('sub11.csv', index=False)"
   ]
  },
  {
   "cell_type": "code",
   "execution_count": 93,
   "metadata": {},
   "outputs": [
    {
     "name": "stdout",
     "output_type": "stream",
     "text": [
      "('Original:', 'MIDDLE', 'Predicted:', 'MIDDLE')\n"
     ]
    },
    {
     "data": {
      "image/png": "[encoded data removed]",
      "text/plain": [
       "<matplotlib.figure.Figure at 0x13fcad790>"
      ]
     },
     "metadata": {},
     "output_type": "display_data"
    }
   ],
   "source": [
    "i = random.choice(train.index)\n",
    "img_name = train.ID[i]\n",
    "\n",
    "img = imread(os.path.join(data_dir_train, 'Train', img_name)).astype('float32')\n",
    "imshow(imresize(img, (128, 128)))\n",
    "pred = model.predict_classes(train_x)\n",
    "print('Original:', train.Class[i], 'Predicted:', lb.inverse_transform(pred[i]))"
   ]
  },
  {
   "cell_type": "code",
   "execution_count": null,
   "metadata": {
    "collapsed": true
   },
   "outputs": [],
   "source": []
  }
 ],
 "metadata": {
  "kernelspec": {
   "display_name": "Python 2",
   "language": "python",
   "name": "python2"
  },
  "language_info": {
   "codemirror_mode": {
    "name": "ipython",
    "version": 2
   },
   "file_extension": ".py",
   "mimetype": "text/x-python",
   "name": "python",
   "nbconvert_exporter": "python",
   "pygments_lexer": "ipython2",
   "version": "2.7.13"
  }
 },
 "nbformat": 4,
 "nbformat_minor": 2
}
